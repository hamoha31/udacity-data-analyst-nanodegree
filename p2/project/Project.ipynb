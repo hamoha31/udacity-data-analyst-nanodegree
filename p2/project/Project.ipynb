{
 "cells": [
  {
   "cell_type": "markdown",
   "metadata": {},
   "source": [
    "# Titanic Data Analyst Nano-Degree Project\n",
    "<hr/>\n",
    "\n",
    "## Project Idea\n",
    "\n",
    "We are going to analyze Titanic data set. The data set contains details about demographics and passenger information from 891 of the 2224 passengers and crew on board the Titanic. \n",
    "\n",
    "## What are we going to do?\n",
    "\n",
    "### 1.Understand data\n",
    "We are going to have a quick look at the data set and understand all the columns.\n",
    "\n",
    "### 2.Define questions about the data\n",
    "We will think of some question which will be answered by the data. \n",
    "\n",
    "### 3.Prepare data\n",
    "We will copy the data from CSV file to our analysis application.\n",
    "\n",
    "### 4.Wrangle data\n",
    "Here, we are going to clean the dataset and check missing data.\n",
    "\n",
    "### 5.Analyze data\n",
    "This part is the most important one, we are going to analyze the data set and try to answer the questions.\n",
    "\n",
    "### 6.Visualize Data\n",
    "Data visualization is magic, it allows us to understand what's going on very fast, and we are going to apply them.\n",
    "\n",
    "### 7.Conclusions Phase\n",
    "Things don't go always as we like, here we will list some of the limitations we have faced together.\n",
    "\n",
    "### 7.Share findings \n",
    "Finally, a short summary answering the questions we have written above.\n"
   ]
  },
  {
   "cell_type": "markdown",
   "metadata": {},
   "source": [
    "<hr/> "
   ]
  },
  {
   "cell_type": "markdown",
   "metadata": {},
   "source": [
    "## 1.Understand data\n",
    "\n",
    "The Titanic dataset contains 891 passengers' details. The dataset's structure is very basic. Each passenger has the following variables.\n",
    "\n",
    "**PassengerId**: Uniqe idntifaier.<br />\n",
    "**survival**: Indicates passenger Survival. 0 = No, 1 = Yes.<br />\n",
    "**pclass**: Ticket class. 1 = 1st, 2 = 2nd, 3 = 3rd.<br />\n",
    "**sex**: Sex.<br />\n",
    "**Age**: Age in years.<br />\n",
    "**sibsp**: Number of siblings / spouses aboard the Titanic.<br />\n",
    "**parch**: Number of parents / children aboard the Titanic.<br />\n",
    "**ticket**: Ticket number.<br />\n",
    "**fare**: Passenger fare.<br />\n",
    "**cabin**: Cabin number.<br />\n",
    "**embarked**: Port of Embarkation. C = Cherbourg, Q = Queenstown, S = Southampton.<br />"
   ]
  },
  {
   "cell_type": "markdown",
   "metadata": {},
   "source": [
    "<hr/>"
   ]
  },
  {
   "cell_type": "markdown",
   "metadata": {},
   "source": [
    "## 2.Define questions about the data\n",
    "#### After a fast look at the data, I just ask the following questions.\n",
    "###### 1.What is the percent of females who survived in front of males?\n",
    "Is the idiom **ladies first** real? or it only in dating?\n",
    "###### 2. Who get lost by most siblings and parents?\n",
    "Is being with huge family make you safe.?\n",
    "###### 3. Is there any relation between the fare and being alive?\n",
    "Do wealthy people pay more in risky statuses?\n",
    "###### 4. Did all passengers at the 1st class survived, and 3rd died?\n",
    "Did the lifeboats split in that way?"
   ]
  },
  {
   "cell_type": "markdown",
   "metadata": {},
   "source": [
    "<hr/>"
   ]
  },
  {
   "cell_type": "markdown",
   "metadata": {},
   "source": [
    "## 3.Prepare data\n",
    "**Now, we are going to copy the CSV file to the notebook to start working with it.**<br/>\n",
    "First, we need to prepare the libraries which we are going to use them."
   ]
  },
  {
   "cell_type": "code",
   "execution_count": 1,
   "metadata": {
    "collapsed": true
   },
   "outputs": [],
   "source": [
    "# Load Libraries to workspace\n",
    "import numpy as np\n",
    "import pandas as pd\n",
    "import matplotlib.pyplot as plt\n",
    "import seaborn as sns\n",
    "import math as ma\n",
    "%matplotlib inline"
   ]
  },
  {
   "cell_type": "markdown",
   "metadata": {},
   "source": [
    "Second, we are going to load the CSV file into the workspace."
   ]
  },
  {
   "cell_type": "code",
   "execution_count": 2,
   "metadata": {
    "collapsed": false,
    "scrolled": true
   },
   "outputs": [
    {
     "data": {
      "text/html": [
       "<div>\n",
       "<table border=\"1\" class=\"dataframe\">\n",
       "  <thead>\n",
       "    <tr style=\"text-align: right;\">\n",
       "      <th></th>\n",
       "      <th>PassengerId</th>\n",
       "      <th>Survived</th>\n",
       "      <th>Pclass</th>\n",
       "      <th>Name</th>\n",
       "      <th>Sex</th>\n",
       "      <th>Age</th>\n",
       "      <th>SibSp</th>\n",
       "      <th>Parch</th>\n",
       "      <th>Ticket</th>\n",
       "      <th>Fare</th>\n",
       "      <th>Cabin</th>\n",
       "      <th>Embarked</th>\n",
       "    </tr>\n",
       "  </thead>\n",
       "  <tbody>\n",
       "    <tr>\n",
       "      <th>0</th>\n",
       "      <td>1</td>\n",
       "      <td>0</td>\n",
       "      <td>3</td>\n",
       "      <td>Braund, Mr. Owen Harris</td>\n",
       "      <td>male</td>\n",
       "      <td>22.0</td>\n",
       "      <td>1</td>\n",
       "      <td>0</td>\n",
       "      <td>A/5 21171</td>\n",
       "      <td>7.2500</td>\n",
       "      <td>NaN</td>\n",
       "      <td>S</td>\n",
       "    </tr>\n",
       "    <tr>\n",
       "      <th>1</th>\n",
       "      <td>2</td>\n",
       "      <td>1</td>\n",
       "      <td>1</td>\n",
       "      <td>Cumings, Mrs. John Bradley (Florence Briggs Th...</td>\n",
       "      <td>female</td>\n",
       "      <td>38.0</td>\n",
       "      <td>1</td>\n",
       "      <td>0</td>\n",
       "      <td>PC 17599</td>\n",
       "      <td>71.2833</td>\n",
       "      <td>C85</td>\n",
       "      <td>C</td>\n",
       "    </tr>\n",
       "    <tr>\n",
       "      <th>2</th>\n",
       "      <td>3</td>\n",
       "      <td>1</td>\n",
       "      <td>3</td>\n",
       "      <td>Heikkinen, Miss. Laina</td>\n",
       "      <td>female</td>\n",
       "      <td>26.0</td>\n",
       "      <td>0</td>\n",
       "      <td>0</td>\n",
       "      <td>STON/O2. 3101282</td>\n",
       "      <td>7.9250</td>\n",
       "      <td>NaN</td>\n",
       "      <td>S</td>\n",
       "    </tr>\n",
       "    <tr>\n",
       "      <th>3</th>\n",
       "      <td>4</td>\n",
       "      <td>1</td>\n",
       "      <td>1</td>\n",
       "      <td>Futrelle, Mrs. Jacques Heath (Lily May Peel)</td>\n",
       "      <td>female</td>\n",
       "      <td>35.0</td>\n",
       "      <td>1</td>\n",
       "      <td>0</td>\n",
       "      <td>113803</td>\n",
       "      <td>53.1000</td>\n",
       "      <td>C123</td>\n",
       "      <td>S</td>\n",
       "    </tr>\n",
       "    <tr>\n",
       "      <th>4</th>\n",
       "      <td>5</td>\n",
       "      <td>0</td>\n",
       "      <td>3</td>\n",
       "      <td>Allen, Mr. William Henry</td>\n",
       "      <td>male</td>\n",
       "      <td>35.0</td>\n",
       "      <td>0</td>\n",
       "      <td>0</td>\n",
       "      <td>373450</td>\n",
       "      <td>8.0500</td>\n",
       "      <td>NaN</td>\n",
       "      <td>S</td>\n",
       "    </tr>\n",
       "  </tbody>\n",
       "</table>\n",
       "</div>"
      ],
      "text/plain": [
       "   PassengerId  Survived  Pclass  \\\n",
       "0            1         0       3   \n",
       "1            2         1       1   \n",
       "2            3         1       3   \n",
       "3            4         1       1   \n",
       "4            5         0       3   \n",
       "\n",
       "                                                Name     Sex   Age  SibSp  \\\n",
       "0                            Braund, Mr. Owen Harris    male  22.0      1   \n",
       "1  Cumings, Mrs. John Bradley (Florence Briggs Th...  female  38.0      1   \n",
       "2                             Heikkinen, Miss. Laina  female  26.0      0   \n",
       "3       Futrelle, Mrs. Jacques Heath (Lily May Peel)  female  35.0      1   \n",
       "4                           Allen, Mr. William Henry    male  35.0      0   \n",
       "\n",
       "   Parch            Ticket     Fare Cabin Embarked  \n",
       "0      0         A/5 21171   7.2500   NaN        S  \n",
       "1      0          PC 17599  71.2833   C85        C  \n",
       "2      0  STON/O2. 3101282   7.9250   NaN        S  \n",
       "3      0            113803  53.1000  C123        S  \n",
       "4      0            373450   8.0500   NaN        S  "
      ]
     },
     "execution_count": 2,
     "metadata": {},
     "output_type": "execute_result"
    }
   ],
   "source": [
    "# Load the titanic data CSV file to the workspace using pandas's method read_csv which returns DataFrame\n",
    "titanic_df = pd.read_csv('titanic-data.csv')\n",
    "# Print first rows of the data frame\n",
    "titanic_df.head()\n"
   ]
  },
  {
   "cell_type": "markdown",
   "metadata": {},
   "source": [
    "<hr/>"
   ]
  },
  {
   "cell_type": "markdown",
   "metadata": {},
   "source": [
    "## 4.Wrangle data\n",
    "The data already clean and structured in an easy way. But we want to double check its validity and completeness. "
   ]
  },
  {
   "cell_type": "code",
   "execution_count": 3,
   "metadata": {
    "collapsed": false
   },
   "outputs": [
    {
     "name": "stdout",
     "output_type": "stream",
     "text": [
      "Total passengers with no Age is: 177\n",
      "Total passengers with no Cabin is: 687\n",
      "Total passengers with no Embarked is: 2\n"
     ]
    }
   ],
   "source": [
    "# Find passengers with no Age [Age == NaN]\n",
    "no_ages = titanic_df[titanic_df[\"Age\"].isnull()]\n",
    "\n",
    "# Find passengers with no Cabin [Cabin == NaN]\n",
    "no_cabin = titanic_df[titanic_df[\"Cabin\"].isnull()]\n",
    "\n",
    "# Find passengers with no Embarked [Embarked == NaN]\n",
    "no_embarked = titanic_df[titanic_df[\"Embarked\"].isnull()]\n",
    "\n",
    "\n",
    "print (\"Total passengers with no Age is: {}\".format(len(no_ages)))\n",
    "print (\"Total passengers with no Cabin is: {}\".format(len(no_cabin)))\n",
    "print (\"Total passengers with no Embarked is: {}\".format(len(no_embarked)))\n",
    "\n",
    "# Create Survival Label Column\n",
    "titanic_df['Survival'] = titanic_df.Survived.map({0 : 'Died', 1 : 'Survived'})\n",
    "\n",
    "# Create Pclass Label Column\n",
    "titanic_df['Class'] = titanic_df.Pclass.map({1 : 'First Class', 2 : 'Second Class', 3 : 'Third Class'})\n",
    "\n",
    "# Create Embarked Labels Column\n",
    "titanic_df['Ports'] = titanic_df.Embarked.map({'C' : 'Cherbourg', 'Q' : 'Queenstown', 'S' : 'Southampton'})"
   ]
  },
  {
   "cell_type": "markdown",
   "metadata": {},
   "source": [
    "<hr/>"
   ]
  },
  {
   "cell_type": "markdown",
   "metadata": {},
   "source": [
    "## 5.Analyze data\n",
    "The fun just started, now we are going to invistegae the data to try to answer our questions."
   ]
  },
  {
   "cell_type": "code",
   "execution_count": 4,
   "metadata": {
    "collapsed": false
   },
   "outputs": [
    {
     "name": "stdout",
     "output_type": "stream",
     "text": [
      "Total passengers in The Titanic was 891\n",
      "Total males in The Titanic was 577\n",
      "Total females in The Titanic was 314\n",
      "Total males survived was 109\n",
      "Total females survived was 233\n",
      "Total males died was 468\n",
      "Total females died was 81\n",
      "Percent of males who survived from total survived 31.8713450292 %\n",
      "Percent of females who survived from total survived 68.1286549708 %\n"
     ]
    }
   ],
   "source": [
    "# Calculate total passengers\n",
    "total_passengers = len(titanic_df)\n",
    "\n",
    "# Calculate total Survived passengers \n",
    "total_survived = len(titanic_df[titanic_df[\"Survived\"] == 1]) \n",
    "\n",
    "# Calculate total females \n",
    "total_females = len(titanic_df[titanic_df[\"Sex\"] == \"female\"])\n",
    "\n",
    "# Calculate total males \n",
    "total_males = len(titanic_df[titanic_df[\"Sex\"] == \"male\"])\n",
    "\n",
    "# Calculate total males who Survived\n",
    "total_males_survived = len(titanic_df[(titanic_df[\"Sex\"] == \"male\") & (titanic_df[\"Survived\"] == 1)])\n",
    "\n",
    "# Calculate total males who Died\n",
    "total_males_died = len(titanic_df[(titanic_df[\"Sex\"] == \"male\") & (titanic_df[\"Survived\"] == 0)])\n",
    "\n",
    "# Calculate total females who Survived\n",
    "total_females_survived = len(titanic_df[(titanic_df[\"Sex\"] == \"female\") & (titanic_df[\"Survived\"] == 1)])\n",
    "\n",
    "# Calculate total females who Died\n",
    "total_females_died = len(titanic_df[(titanic_df[\"Sex\"] == \"female\") & (titanic_df[\"Survived\"] == 0)])\n",
    "\n",
    "percent_males_survived = float(total_males_survived) / float(total_survived)\n",
    "\n",
    "percent_females_survived = float(total_females_survived) / float(total_survived)\n",
    "\n",
    "print (\"Total passengers in The Titanic was {}\".format(total_passengers))\n",
    "print (\"Total males in The Titanic was {}\".format(total_males))\n",
    "print (\"Total females in The Titanic was {}\".format(total_females))\n",
    "print (\"Total males survived was {}\".format(total_males_survived))\n",
    "print (\"Total females survived was {}\".format(total_females_survived))\n",
    "print (\"Total males died was {}\".format(total_males_died))\n",
    "print (\"Total females died was {}\".format(total_females_died))\n",
    "print (\"Percent of males who survived from total survived {} %\".format(percent_males_survived * 100))\n",
    "print (\"Percent of females who survived from total survived {} %\".format(percent_females_survived * 100))"
   ]
  },
  {
   "cell_type": "code",
   "execution_count": 5,
   "metadata": {
    "collapsed": false
   },
   "outputs": [
    {
     "data": {
      "text/plain": [
       "<seaborn.axisgrid.FacetGrid at 0x1044b8090>"
      ]
     },
     "execution_count": 5,
     "metadata": {},
     "output_type": "execute_result"
    },
    {
     "data": {
      "image/png": "[encoded data removed]",
      "text/plain": [
       "<matplotlib.figure.Figure at 0x104494d50>"
      ]
     },
     "metadata": {},
     "output_type": "display_data"
    }
   ],
   "source": [
    "# Visualize Survived & Sex\n",
    "sns.factorplot(x = 'Survival', data=titanic_df, hue = 'Sex', kind = 'count')"
   ]
  },
  {
   "cell_type": "code",
   "execution_count": 6,
   "metadata": {
    "collapsed": false
   },
   "outputs": [
    {
     "data": {
      "text/html": [
       "<div>\n",
       "<table border=\"1\" class=\"dataframe\">\n",
       "  <thead>\n",
       "    <tr style=\"text-align: right;\">\n",
       "      <th></th>\n",
       "      <th></th>\n",
       "      <th>Sex</th>\n",
       "    </tr>\n",
       "    <tr>\n",
       "      <th>Survived</th>\n",
       "      <th>Sex</th>\n",
       "      <th></th>\n",
       "    </tr>\n",
       "  </thead>\n",
       "  <tbody>\n",
       "    <tr>\n",
       "      <th rowspan=\"2\" valign=\"top\">0</th>\n",
       "      <th>female</th>\n",
       "      <td>81</td>\n",
       "    </tr>\n",
       "    <tr>\n",
       "      <th>male</th>\n",
       "      <td>468</td>\n",
       "    </tr>\n",
       "    <tr>\n",
       "      <th rowspan=\"2\" valign=\"top\">1</th>\n",
       "      <th>female</th>\n",
       "      <td>233</td>\n",
       "    </tr>\n",
       "    <tr>\n",
       "      <th>male</th>\n",
       "      <td>109</td>\n",
       "    </tr>\n",
       "  </tbody>\n",
       "</table>\n",
       "</div>"
      ],
      "text/plain": [
       "                 Sex\n",
       "Survived Sex        \n",
       "0        female   81\n",
       "         male    468\n",
       "1        female  233\n",
       "         male    109"
      ]
     },
     "execution_count": 6,
     "metadata": {},
     "output_type": "execute_result"
    }
   ],
   "source": [
    "# Calculate total of males and females who died and survived\n",
    "titanic_df.groupby(['Survived', 'Sex'])[[\"Sex\"]].count()"
   ]
  },
  {
   "cell_type": "code",
   "execution_count": 7,
   "metadata": {
    "collapsed": false
   },
   "outputs": [
    {
     "name": "stdout",
     "output_type": "stream",
     "text": [
      "The most lost total is 10.\n"
     ]
    },
    {
     "name": "stderr",
     "output_type": "stream",
     "text": [
      "/anaconda/envs/DAND/lib/python2.7/site-packages/ipykernel/__main__.py:5: SettingWithCopyWarning: \n",
      "A value is trying to be set on a copy of a slice from a DataFrame.\n",
      "Try using .loc[row_indexer,col_indexer] = value instead\n",
      "\n",
      "See the caveats in the documentation: http://pandas.pydata.org/pandas-docs/stable/indexing.html#indexing-view-versus-copy\n"
     ]
    }
   ],
   "source": [
    "# Find all died passengers\n",
    "died_passengers = titanic_df[titanic_df[\"Survived\"] == 0]\n",
    "\n",
    "# Count total family for each passenger, SibSp + Parch\n",
    "died_passengers[\"total_family\"] = died_passengers.apply(lambda x: x[\"SibSp\"] + x[\"Parch\"], axis = 1)\n",
    "\n",
    "# Find max total family number\n",
    "max_total_family = died_passengers.loc[died_passengers['total_family'].idxmax()][\"total_family\"]\n",
    "\n",
    "print (\"The most lost total is {}.\".format(max_total_family))"
   ]
  },
  {
   "cell_type": "code",
   "execution_count": 8,
   "metadata": {
    "collapsed": false
   },
   "outputs": [
    {
     "name": "stdout",
     "output_type": "stream",
     "text": [
      "The total of lost passengers who has Parch + SibSp equals maximum (10) is 7\n"
     ]
    },
    {
     "data": {
      "text/html": [
       "<div>\n",
       "<table border=\"1\" class=\"dataframe\">\n",
       "  <thead>\n",
       "    <tr style=\"text-align: right;\">\n",
       "      <th></th>\n",
       "      <th>PassengerId</th>\n",
       "      <th>Survived</th>\n",
       "      <th>Pclass</th>\n",
       "      <th>Name</th>\n",
       "      <th>Sex</th>\n",
       "      <th>Age</th>\n",
       "      <th>SibSp</th>\n",
       "      <th>Parch</th>\n",
       "      <th>Ticket</th>\n",
       "      <th>Fare</th>\n",
       "      <th>Cabin</th>\n",
       "      <th>Embarked</th>\n",
       "      <th>Survival</th>\n",
       "      <th>Class</th>\n",
       "      <th>Ports</th>\n",
       "      <th>total_family</th>\n",
       "    </tr>\n",
       "  </thead>\n",
       "  <tbody>\n",
       "    <tr>\n",
       "      <th>159</th>\n",
       "      <td>160</td>\n",
       "      <td>0</td>\n",
       "      <td>3</td>\n",
       "      <td>Sage, Master. Thomas Henry</td>\n",
       "      <td>male</td>\n",
       "      <td>NaN</td>\n",
       "      <td>8</td>\n",
       "      <td>2</td>\n",
       "      <td>CA. 2343</td>\n",
       "      <td>69.55</td>\n",
       "      <td>NaN</td>\n",
       "      <td>S</td>\n",
       "      <td>Died</td>\n",
       "      <td>Third Class</td>\n",
       "      <td>Southampton</td>\n",
       "      <td>10</td>\n",
       "    </tr>\n",
       "    <tr>\n",
       "      <th>180</th>\n",
       "      <td>181</td>\n",
       "      <td>0</td>\n",
       "      <td>3</td>\n",
       "      <td>Sage, Miss. Constance Gladys</td>\n",
       "      <td>female</td>\n",
       "      <td>NaN</td>\n",
       "      <td>8</td>\n",
       "      <td>2</td>\n",
       "      <td>CA. 2343</td>\n",
       "      <td>69.55</td>\n",
       "      <td>NaN</td>\n",
       "      <td>S</td>\n",
       "      <td>Died</td>\n",
       "      <td>Third Class</td>\n",
       "      <td>Southampton</td>\n",
       "      <td>10</td>\n",
       "    </tr>\n",
       "    <tr>\n",
       "      <th>201</th>\n",
       "      <td>202</td>\n",
       "      <td>0</td>\n",
       "      <td>3</td>\n",
       "      <td>Sage, Mr. Frederick</td>\n",
       "      <td>male</td>\n",
       "      <td>NaN</td>\n",
       "      <td>8</td>\n",
       "      <td>2</td>\n",
       "      <td>CA. 2343</td>\n",
       "      <td>69.55</td>\n",
       "      <td>NaN</td>\n",
       "      <td>S</td>\n",
       "      <td>Died</td>\n",
       "      <td>Third Class</td>\n",
       "      <td>Southampton</td>\n",
       "      <td>10</td>\n",
       "    </tr>\n",
       "    <tr>\n",
       "      <th>324</th>\n",
       "      <td>325</td>\n",
       "      <td>0</td>\n",
       "      <td>3</td>\n",
       "      <td>Sage, Mr. George John Jr</td>\n",
       "      <td>male</td>\n",
       "      <td>NaN</td>\n",
       "      <td>8</td>\n",
       "      <td>2</td>\n",
       "      <td>CA. 2343</td>\n",
       "      <td>69.55</td>\n",
       "      <td>NaN</td>\n",
       "      <td>S</td>\n",
       "      <td>Died</td>\n",
       "      <td>Third Class</td>\n",
       "      <td>Southampton</td>\n",
       "      <td>10</td>\n",
       "    </tr>\n",
       "    <tr>\n",
       "      <th>792</th>\n",
       "      <td>793</td>\n",
       "      <td>0</td>\n",
       "      <td>3</td>\n",
       "      <td>Sage, Miss. Stella Anna</td>\n",
       "      <td>female</td>\n",
       "      <td>NaN</td>\n",
       "      <td>8</td>\n",
       "      <td>2</td>\n",
       "      <td>CA. 2343</td>\n",
       "      <td>69.55</td>\n",
       "      <td>NaN</td>\n",
       "      <td>S</td>\n",
       "      <td>Died</td>\n",
       "      <td>Third Class</td>\n",
       "      <td>Southampton</td>\n",
       "      <td>10</td>\n",
       "    </tr>\n",
       "    <tr>\n",
       "      <th>846</th>\n",
       "      <td>847</td>\n",
       "      <td>0</td>\n",
       "      <td>3</td>\n",
       "      <td>Sage, Mr. Douglas Bullen</td>\n",
       "      <td>male</td>\n",
       "      <td>NaN</td>\n",
       "      <td>8</td>\n",
       "      <td>2</td>\n",
       "      <td>CA. 2343</td>\n",
       "      <td>69.55</td>\n",
       "      <td>NaN</td>\n",
       "      <td>S</td>\n",
       "      <td>Died</td>\n",
       "      <td>Third Class</td>\n",
       "      <td>Southampton</td>\n",
       "      <td>10</td>\n",
       "    </tr>\n",
       "    <tr>\n",
       "      <th>863</th>\n",
       "      <td>864</td>\n",
       "      <td>0</td>\n",
       "      <td>3</td>\n",
       "      <td>Sage, Miss. Dorothy Edith \"Dolly\"</td>\n",
       "      <td>female</td>\n",
       "      <td>NaN</td>\n",
       "      <td>8</td>\n",
       "      <td>2</td>\n",
       "      <td>CA. 2343</td>\n",
       "      <td>69.55</td>\n",
       "      <td>NaN</td>\n",
       "      <td>S</td>\n",
       "      <td>Died</td>\n",
       "      <td>Third Class</td>\n",
       "      <td>Southampton</td>\n",
       "      <td>10</td>\n",
       "    </tr>\n",
       "  </tbody>\n",
       "</table>\n",
       "</div>"
      ],
      "text/plain": [
       "     PassengerId  Survived  Pclass                               Name     Sex  \\\n",
       "159          160         0       3         Sage, Master. Thomas Henry    male   \n",
       "180          181         0       3       Sage, Miss. Constance Gladys  female   \n",
       "201          202         0       3                Sage, Mr. Frederick    male   \n",
       "324          325         0       3           Sage, Mr. George John Jr    male   \n",
       "792          793         0       3            Sage, Miss. Stella Anna  female   \n",
       "846          847         0       3           Sage, Mr. Douglas Bullen    male   \n",
       "863          864         0       3  Sage, Miss. Dorothy Edith \"Dolly\"  female   \n",
       "\n",
       "     Age  SibSp  Parch    Ticket   Fare Cabin Embarked Survival        Class  \\\n",
       "159  NaN      8      2  CA. 2343  69.55   NaN        S     Died  Third Class   \n",
       "180  NaN      8      2  CA. 2343  69.55   NaN        S     Died  Third Class   \n",
       "201  NaN      8      2  CA. 2343  69.55   NaN        S     Died  Third Class   \n",
       "324  NaN      8      2  CA. 2343  69.55   NaN        S     Died  Third Class   \n",
       "792  NaN      8      2  CA. 2343  69.55   NaN        S     Died  Third Class   \n",
       "846  NaN      8      2  CA. 2343  69.55   NaN        S     Died  Third Class   \n",
       "863  NaN      8      2  CA. 2343  69.55   NaN        S     Died  Third Class   \n",
       "\n",
       "           Ports  total_family  \n",
       "159  Southampton            10  \n",
       "180  Southampton            10  \n",
       "201  Southampton            10  \n",
       "324  Southampton            10  \n",
       "792  Southampton            10  \n",
       "846  Southampton            10  \n",
       "863  Southampton            10  "
      ]
     },
     "execution_count": 8,
     "metadata": {},
     "output_type": "execute_result"
    }
   ],
   "source": [
    "# Find died passengers who has total family = max total family\n",
    "most_lost_passengers = died_passengers[died_passengers[\"total_family\"] == max_total_family]\n",
    "\n",
    "print (\"The total of lost passengers who has Parch + SibSp equals maximum ({}) is {}\" \\\n",
    "           .format(max_total_family, len(most_lost_passengers)))\n",
    "\n",
    "most_lost_passengers\n"
   ]
  },
  {
   "cell_type": "markdown",
   "metadata": {},
   "source": [
    "**I can clearly see that the Sage family are the most passengers.**"
   ]
  },
  {
   "cell_type": "markdown",
   "metadata": {},
   "source": [
    "<hr/>"
   ]
  },
  {
   "cell_type": "markdown",
   "metadata": {},
   "source": [
    "## 6.Visualize Data\n",
    "Here we are going to visualize our data and try to answer questions."
   ]
  },
  {
   "cell_type": "code",
   "execution_count": 9,
   "metadata": {
    "collapsed": false
   },
   "outputs": [
    {
     "data": {
      "text/plain": [
       "([<matplotlib.axis.XTick at 0x1108c4fd0>,\n",
       "  <matplotlib.axis.XTick at 0x1108c4b10>],\n",
       " <a list of 2 Text xticklabel objects>)"
      ]
     },
     "execution_count": 9,
     "metadata": {},
     "output_type": "execute_result"
    },
    {
     "data": {
      "image/png": "[encoded data removed]",
      "text/plain": [
       "<matplotlib.figure.Figure at 0x10df06150>"
      ]
     },
     "metadata": {},
     "output_type": "display_data"
    }
   ],
   "source": [
    "# Trying to find a relation between Survived and Fare\n",
    "sns.violinplot(x=\"Survived\", y=\"Fare\", data=titanic_df)\n",
    "plt.xticks([0,1], ['Died', 'Survived']) "
   ]
  },
  {
   "cell_type": "markdown",
   "metadata": {},
   "source": [
    "The above visualization divide people wither they died or survived. Also, it divides them based on the fare paid. \n",
    "\n",
    "\n",
    "The diagram explains that there is no relation between the paid amount and survived. Because, many points (Passengers) paid a very low amount and died, also many of them survived. \n",
    "\n",
    "\n",
    "**I can't see any relation between the paid amount [Fare] and [Survived].**"
   ]
  },
  {
   "cell_type": "code",
   "execution_count": 10,
   "metadata": {
    "collapsed": false
   },
   "outputs": [
    {
     "data": {
      "image/png": "[encoded data removed]",
      "text/plain": [
       "<matplotlib.figure.Figure at 0x1108c4d10>"
      ]
     },
     "metadata": {},
     "output_type": "display_data"
    }
   ],
   "source": [
    "pclass_serviced = sns.factorplot(x=\"Age\", y=\"Ports\", \\\n",
    "                    hue=\"Survival\", row=\"Class\", \\\n",
    "                    data=titanic_df[titanic_df.Ports.notnull()], \\\n",
    "                    orient=\"h\", size=2, aspect=3.5, palette=\"Set3\", \\\n",
    "                    kind=\"violin\", split=True, cut=1, bw=.8) "
   ]
  },
  {
   "cell_type": "markdown",
   "metadata": {},
   "source": [
    "The above visualization split passengers based on thier classes [First, Secound or Thired]. Then split each group based on ports [Southampton, Cherbourg or Queenstown]. \n",
    "\n",
    "The visualization shows that the most passengers at the first and secound classes are from Southampton and Cherbourg. Also, it shows that most Queenstown's citizens are of the third class and most of them died."
   ]
  },
  {
   "cell_type": "markdown",
   "metadata": {},
   "source": [
    "<hr/>"
   ]
  },
  {
   "cell_type": "markdown",
   "metadata": {},
   "source": [
    "## 7.Conclusions Phase\n",
    "\n",
    "Before we finish, we have to say some points to clearify our analysis.\n",
    "\n",
    "The Titanic dataset is just a sample of 891 from the 2224 total passengers.<br/> \n",
    "The dataset contains missing data at some fields for some of the passengers.<br/> \n",
    "<ul>\n",
    "<li>\n",
    "Some passengers are with no Age and Cabin.!\n",
    "</li>\n",
    "<li>\n",
    "Embarked field is empty for 2 passengres.\n",
    "</li>\n",
    "<li>\n",
    "I wish that there was little bit more description about the relations SibSp and Parch. Where I can apply further analysis on that part.\n",
    "</li>\n",
    "<li>\n",
    "I did not work with ages so much, if I used to do it. I will fill it with the mean of ages.\n",
    "</li>\n",
    "<li>\n",
    "Finally, correlation doesn't imply causation.\n",
    "</li>\n",
    "</ul>"
   ]
  },
  {
   "cell_type": "markdown",
   "metadata": {},
   "source": [
    "<hr/>"
   ]
  },
  {
   "cell_type": "markdown",
   "metadata": {},
   "source": [
    "## 8.Share findings\n",
    "After an amazing journey over the dataset, we find together many important things which helped us answering the questions which we wrote at the beginning.\n",
    "\n",
    "** Q1.What is the percent of females who survived in front of males?**\n",
    "\n",
    "A1: \n",
    "\n",
    "Percent of males who survived from total survived = 31.9%\n",
    "\n",
    "Percent of females who survived from total survived = 68.1%\n",
    "\n",
    "** This is little bit confusing, as the males are completing 65% of total passengers.! I can say that ladies first iis correct.**\n",
    "\n",
    "** Q2. Who get lost by most siblings and parents?**\n",
    "\n",
    "A2: \n",
    "\n",
    "The maximum number of Parch and SibSp for a passenger is 10. 7 Died passengers were having a total of 10 Parch and SibSp on the Titanic. The strange thing is that all the 7 passengers were from **Sage family**. They start the journey from Southampton and they were all in the third class.\n",
    "\n",
    "**Being with your family in hard situations is bad, who should help whom? You may all survive or died**\n",
    "\n",
    "** Q3. Is there any relation between the fare and being alive?**\n",
    "\n",
    "A3: \n",
    "\n",
    "I didn't find any relation between the fare paid and being alive. \n",
    "**Wealthy people not always have the chance to pay, even if they want to do.**\n",
    "\n",
    "** Q4. Did all passengers at the 1st class survived, and 3rd died?**\n",
    "\n",
    "A4: \n",
    "\n",
    "Many passengers from all classes died and survived, which means if you were at the first class you may die, or if you were at the third class you may survive.\n",
    "\n",
    "**Lifeboats were split in a normal way, not for only first class.**"
   ]
  }
 ],
 "metadata": {
  "anaconda-cloud": {},
  "kernelspec": {
   "display_name": "Python [conda env:DAND]",
   "language": "python",
   "name": "conda-env-DAND-py"
  },
  "language_info": {
   "codemirror_mode": {
    "name": "ipython",
    "version": 2
   },
   "file_extension": ".py",
   "mimetype": "text/x-python",
   "name": "python",
   "nbconvert_exporter": "python",
   "pygments_lexer": "ipython2",
   "version": "2.7.12"
  }
 },
 "nbformat": 4,
 "nbformat_minor": 2
}
